{
 "cells": [
  {
   "cell_type": "markdown",
   "id": "07050182",
   "metadata": {},
   "source": [
    "# Adidas Sales Forecast"
   ]
  },
  {
   "cell_type": "markdown",
   "id": "9811dcb3",
   "metadata": {},
   "source": [
    "## Step 1: Install Required Libraries\n",
    "\n"
   ]
  },
  {
   "cell_type": "code",
   "execution_count": null,
   "id": "a43e192f",
   "metadata": {},
   "outputs": [],
   "source": [
    "pip install pandas scikit-learn statsmodels\n"
   ]
  },
  {
   "cell_type": "markdown",
   "id": "5749e8c0",
   "metadata": {},
   "source": [
    "##  Step 2: Import Libraries"
   ]
  },
  {
   "cell_type": "code",
   "execution_count": null,
   "id": "9a70416e",
   "metadata": {},
   "outputs": [],
   "source": []
  }
 ],
 "metadata": {
  "kernelspec": {
   "display_name": "Python 3 (ipykernel)",
   "language": "python",
   "name": "python3"
  },
  "language_info": {
   "codemirror_mode": {
    "name": "ipython",
    "version": 3
   },
   "file_extension": ".py",
   "mimetype": "text/x-python",
   "name": "python",
   "nbconvert_exporter": "python",
   "pygments_lexer": "ipython3",
   "version": "3.11.4"
  }
 },
 "nbformat": 4,
 "nbformat_minor": 5
}
